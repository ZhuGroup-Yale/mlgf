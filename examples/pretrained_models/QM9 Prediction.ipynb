{
 "cells": [
  {
   "cell_type": "markdown",
   "id": "aa0e7b99-3d3c-48a9-8466-455fa17c9fb3",
   "metadata": {},
   "source": [
    "### QM9 Model\n",
    "Model trained on 2000 QM9 molecules from Figure 2 of https://arxiv.org/abs/2407.20384. Prediction of C4H6N4O"
   ]
  },
  {
   "cell_type": "code",
   "execution_count": 1,
   "id": "62460677-f790-4664-9c6a-9ff860da833f",
   "metadata": {},
   "outputs": [
    {
     "name": "stdout",
     "output_type": "stream",
     "text": [
      "Apr 08 16:46:53 ####### \n",
      "                ####### libDMET   version 0.5\n",
      "                ####### A periodic DMET library for lattice model and realistic solid.\n",
      "                ####### \n"
     ]
    }
   ],
   "source": [
    "import joblib\n",
    "gnn_obj_file = 'qm9_model.joblib'\n",
    "gnn_obj = joblib.load(gnn_obj_file)\n",
    "\n",
    "# predict sigma(iw) in the SAIAO basis froma chkfile (this is a training example from workflow_gnn output)\n",
    "example_chkfile = '../workflow_gnn/test_chk/ammonia.chk'\n",
    "sigma_ml = gnn_obj.predict_full_sigma(example_chkfile) \n"
   ]
  },
  {
   "cell_type": "code",
   "execution_count": 2,
   "id": "fa91f7cd-f55a-4365-9f60-3e3a0fab2f91",
   "metadata": {},
   "outputs": [],
   "source": [
    "# the pdset attribute contains the Moldatum object that was mounted for an MBGF-Net prediction\n",
    "mlf = gnn_obj.pdset[0]\n",
    "\n",
    "# extract the SAIAO to MO rotation for sigma(iw)\n",
    "C_saiao_mo = mlf['C_saiao_mo']\n",
    "\n",
    "# rotate sigma(iw) to MO basis\n",
    "from mlgf.lib.ml_helper import sigma_lo_mo\n",
    "sigma_ml_mo = sigma_lo_mo(sigma_ml, C_saiao_mo) \n",
    "\n",
    "# extract the properties from MBGF and self-energy, takes sigma in the MO basis, can be machine learned sigma or true self-energy\n",
    "from mlgf.workflow.get_ml_info import get_properties\n",
    "import numpy as np\n",
    "eta = 0.01 # band broadening for DOS\n",
    "freqs = np.linspace(-1, 1, 201) # real frequency points on which to evaluate the DOS\n",
    "properties = 'dqmb' # a short string denoting which properties to compute from sigma: d - dos, q - qpe, m - density matrix, b - bse\n",
    "\n",
    "# the indicies of the sigmaI points used for analytic continuation for QPE\n",
    "ac_idx = [ 0,  2,  3,  5,  6,  8,  9, 11, 12, 14, 15, 16, 17, 19, 20, 21, 22, 23]\n",
    "properties_ml = get_properties(sigma_ml_mo, mlf, freqs, eta, properties = properties, ac_idx = ac_idx)\n",
    "properties_true = get_properties(mlf['sigmaI'], mlf, freqs, eta, properties = properties, ac_idx = ac_idx)"
   ]
  },
  {
   "cell_type": "code",
   "execution_count": 3,
   "id": "fa975817-52c1-4460-9671-7b7346fc8271",
   "metadata": {},
   "outputs": [
    {
     "name": "stdout",
     "output_type": "stream",
     "text": [
      "HOMO Error (eV): 0.0037\n",
      "LUMO Error (eV): 0.0073\n",
      "Density matrix MAE: 0.0000\n",
      "Dipole error (Debye): 0.0057\n",
      "Quadrupole error (Debye⋅Å): 0.0007\n",
      "BSE S1 error (eV): 0.0039\n"
     ]
    }
   ],
   "source": [
    "au_to_ev = 27.21\n",
    "nocc = mlf['nocc']\n",
    "\n",
    "homo_error = properties_ml['qpe'][nocc-1] - properties_true['qpe'][nocc-1]\n",
    "print(f'HOMO Error (eV): {homo_error*au_to_ev:0.4f}') \n",
    "\n",
    "lumo_error = properties_ml['qpe'][nocc] - properties_true['qpe'][nocc]\n",
    "print(f'LUMO Error (eV): {lumo_error*au_to_ev:0.4f}') \n",
    "\n",
    "dm_mae = np.mean(np.abs(properties_ml['dm'] - properties_true['dm']))\n",
    "print(f'Density matrix MAE: {dm_mae:0.4f}') \n",
    "\n",
    "# dipoles and quadrupoles, note predicted dm is in MO basis\n",
    "from mlgf.lib.dm_helper import dm_mo_to_ao, get_dipole, scalar_quadrupole\n",
    "from pyscf import dft, lib\n",
    "mol = lib.chkfile.load_mol(example_chkfile)\n",
    "rks = dft.RKS(mol)\n",
    "rks.xc = mlf['xc'].decode('utf-8')\n",
    "scf_data = lib.chkfile.load(example_chkfile, 'scf')\n",
    "rks.__dict__.update(scf_data)\n",
    "dipole_ml = get_dipole(rks, dm_mo_to_ao(properties_ml['dm'], scf_data['mo_coeff']))\n",
    "dipole_true = get_dipole(rks, dm_mo_to_ao(properties_true['dm'], scf_data['mo_coeff']))\n",
    "\n",
    "quadrupole_ml = scalar_quadrupole(mol, dm_mo_to_ao(properties_ml['dm'], scf_data['mo_coeff']))\n",
    "quadrupole_true = scalar_quadrupole(mol, dm_mo_to_ao(properties_true['dm'], scf_data['mo_coeff']))\n",
    "\n",
    "print(f'Dipole error (Debye): {(dipole_ml-dipole_true):0.4f}') \n",
    "print(f'Quadrupole error (Debye⋅Å): {(quadrupole_ml-quadrupole_true):0.4f}') \n",
    "\n",
    "if 'b' in properties:\n",
    "    s1_ml = properties_ml['bse_exci_s'][0]*au_to_ev\n",
    "    s1_true = properties_true['bse_exci_s'][0]*au_to_ev\n",
    "    print(f'BSE S1 error (eV): {(s1_ml-s1_true):0.4f}') \n",
    "    "
   ]
  },
  {
   "cell_type": "code",
   "execution_count": null,
   "id": "39a25d73-5d83-4bb6-b10e-0db79fbf91f9",
   "metadata": {},
   "outputs": [],
   "source": []
  },
  {
   "cell_type": "code",
   "execution_count": null,
   "id": "aa13d53c-a7cd-49e5-a5c5-d4729a9fb3f1",
   "metadata": {},
   "outputs": [],
   "source": []
  }
 ],
 "metadata": {
  "kernelspec": {
   "display_name": "Python 3 (ipykernel)",
   "language": "python",
   "name": "python3"
  },
  "language_info": {
   "codemirror_mode": {
    "name": "ipython",
    "version": 3
   },
   "file_extension": ".py",
   "mimetype": "text/x-python",
   "name": "python",
   "nbconvert_exporter": "python",
   "pygments_lexer": "ipython3",
   "version": "3.11.7"
  }
 },
 "nbformat": 4,
 "nbformat_minor": 5
}
